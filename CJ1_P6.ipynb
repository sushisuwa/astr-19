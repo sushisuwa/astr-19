{
 "cells": [
  {
   "cell_type": "code",
   "execution_count": 31,
   "id": "da4b0670-44a7-4a6b-8891-01c4d89225e5",
   "metadata": {},
   "outputs": [],
   "source": [
    "import numpy as np \n",
    "from astropy.table import Table\n",
    "from astropy.io import ascii"
   ]
  },
  {
   "cell_type": "markdown",
   "id": "98086c26-e07c-463f-8574-122acbcc2d59",
   "metadata": {},
   "source": [
    "#This function takes in a number x and returns cos(x)"
   ]
  },
  {
   "cell_type": "code",
   "execution_count": 32,
   "id": "23303faf-3ccd-4ef4-91fb-1f40269ef486",
   "metadata": {},
   "outputs": [],
   "source": [
    "def cos(x):\n",
    "    return np.cos(x)"
   ]
  },
  {
   "cell_type": "markdown",
   "id": "94fe3d29-e9ac-4fef-a7a5-baeea001c316",
   "metadata": {},
   "source": [
    "#This function takes in a number x and returns sin(x)"
   ]
  },
  {
   "cell_type": "code",
   "execution_count": 33,
   "id": "31c7c817-3793-4db5-ad37-635c11b357fd",
   "metadata": {},
   "outputs": [],
   "source": [
    "def sin(x):\n",
    "    return np.sin(x)"
   ]
  },
  {
   "cell_type": "code",
   "execution_count": 34,
   "id": "59011c78-7929-45ce-97cf-52c68d35e2fe",
   "metadata": {},
   "outputs": [],
   "source": [
    "x = np.linspace(0,2*np.pi,1000)\n",
    "cos_x = cos(x)\n",
    "sin_x = sin(x)\n",
    "data = Table([x,sin_x,cos_x], names=['x','sin_x','cos_x'])"
   ]
  },
  {
   "cell_type": "code",
   "execution_count": 35,
   "id": "14c71208-48c4-4dae-9893-fd3ac7e83c9d",
   "metadata": {},
   "outputs": [
    {
     "name": "stdout",
     "output_type": "stream",
     "text": [
      " x  sin_x cos_x\n",
      "--- ----- -----\n",
      "0.0   0.0   1.0\n",
      "         x                  sin_x               cos_x       \n",
      "-------------------- -------------------- ------------------\n",
      "0.006289474781961547 0.006289433316067751 0.9999802213186832\n",
      "         x                  sin_x               cos_x       \n",
      "-------------------- -------------------- ------------------\n",
      "0.012578949563923095 0.012578617838741058 0.9999208860571255\n",
      "         x                  sin_x              cos_x       \n",
      "-------------------- ------------------- ------------------\n",
      "0.018868424345884642 0.01886730478446709 0.9998219965624732\n",
      "         x                 sin_x               cos_x       \n",
      "------------------- -------------------- ------------------\n",
      "0.02515789912784619 0.025155245389375847 0.9996835567465339\n",
      "         x                sin_x              cos_x       \n",
      "------------------- ------------------ ------------------\n",
      "0.03144737390980774 0.0314421909191206 0.9995055720856215\n",
      "         x                  sin_x             cos_x      \n",
      "-------------------- ------------------- ----------------\n",
      "0.037736848691769284 0.03772789267871718 0.99928804962034\n",
      "         x                 sin_x              cos_x       \n",
      "------------------- ------------------- ------------------\n",
      "0.04402632347373083 0.04401210202238166 0.9990309979553044\n",
      "         x                 sin_x              cos_x       \n",
      "------------------- ------------------- ------------------\n",
      "0.05031579825569238 0.05029457036336618 0.9987344272588006\n",
      "         x                  sin_x               cos_x       \n",
      "-------------------- -------------------- ------------------\n",
      "0.056605273037653926 0.056575049183792345 0.9983983492623831\n"
     ]
    }
   ],
   "source": [
    "for i in range(0,10):\n",
    "    print(data[i])"
   ]
  }
 ],
 "metadata": {
  "kernelspec": {
   "display_name": "Python 3 (ipykernel)",
   "language": "python",
   "name": "python3"
  },
  "language_info": {
   "codemirror_mode": {
    "name": "ipython",
    "version": 3
   },
   "file_extension": ".py",
   "mimetype": "text/x-python",
   "name": "python",
   "nbconvert_exporter": "python",
   "pygments_lexer": "ipython3",
   "version": "3.12.0"
  }
 },
 "nbformat": 4,
 "nbformat_minor": 5
}
